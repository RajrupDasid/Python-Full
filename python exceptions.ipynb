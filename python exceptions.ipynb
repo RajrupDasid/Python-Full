{
 "cells": [
  {
   "cell_type": "markdown",
   "metadata": {},
   "source": [
    "# Syntax errors\n",
    "Python can only execute a program if the program is syntactically correct; otherwise, the process fails and returns an error message. Syntax refers to the structure of a program and the rules about that structure. For example, in English, a sentence must begin with a capital letter and end with a period. this sentence contains a syntax error. So does this one\n",
    "\n",
    "For most readers, a few syntax errors are not a significant problem, which is why we can read the poetry of e. e. cummings without problems. Python is not so forgiving. If there is a single syntax error anywhere in your program, Python will display an error message and quit. You will not be able to complete the execution of your program. During the first few weeks of your programming career, you will probably spend a lot of time tracking down syntax errors. However, as you gain experience, you will make fewer errors and you will also be able to find your errors faster.\n",
    "\n",
    "Can you spot the syntax error in the code below?"
   ]
  },
  {
   "cell_type": "code",
   "execution_count": 6,
   "metadata": {},
   "outputs": [
    {
     "name": "stdout",
     "output_type": "stream",
     "text": [
      "Hello World!\n"
     ]
    }
   ],
   "source": [
    "print(\"Hello World!\")"
   ]
  },
  {
   "cell_type": "markdown",
   "metadata": {},
   "source": [
    "Which of the following is a syntax error?\n",
    "\n",
    "A. Attempting to divide by 0.\n",
    "\n",
    "B. Forgetting a colon at the end of a statement where one is required.\n",
    "\n",
    "C. Forgetting to divide by 100 when printing a percentage amount."
   ]
  },
  {
   "cell_type": "markdown",
   "metadata": {},
   "source": [
    "# Runtime Errors\n",
    "The second type of error is a runtime error, so called because the error does not appear until you run the program. These errors are also called exceptions because they usually indicate that something exceptional (and bad) has happened.\n",
    "\n",
    "Runtime errors are rare in the simple programs you will see in the first few chapters, so it might be a while before you encounter one.\n"
   ]
  },
  {
   "cell_type": "code",
   "execution_count": 2,
   "metadata": {},
   "outputs": [
    {
     "ename": "ZeroDivisionError",
     "evalue": "division by zero",
     "output_type": "error",
     "traceback": [
      "\u001b[1;31m---------------------------------------------------------------------------\u001b[0m",
      "\u001b[1;31mZeroDivisionError\u001b[0m                         Traceback (most recent call last)",
      "\u001b[1;32m<ipython-input-2-01a2217119a3>\u001b[0m in \u001b[0;36m<module>\u001b[1;34m\u001b[0m\n\u001b[1;32m----> 1\u001b[1;33m \u001b[0mprint\u001b[0m\u001b[1;33m(\u001b[0m\u001b[1;36m3\u001b[0m\u001b[1;33m/\u001b[0m\u001b[1;36m0\u001b[0m\u001b[1;33m)\u001b[0m\u001b[1;33m\u001b[0m\u001b[1;33m\u001b[0m\u001b[0m\n\u001b[0m",
      "\u001b[1;31mZeroDivisionError\u001b[0m: division by zero"
     ]
    }
   ],
   "source": [
    "print(3/0)"
   ]
  },
  {
   "cell_type": "markdown",
   "metadata": {},
   "source": [
    "Check your understanding\n",
    "\n",
    "debug-51: Which of the following is a run-time error?\n",
    "\n",
    "A. Attempting to divide by 0.\n",
    "\n",
    "B. Forgetting a colon at the end of a statement where one is required.\n",
    "\n",
    "C. Forgetting to divide by 100 when printing a percentage amount."
   ]
  },
  {
   "cell_type": "markdown",
   "metadata": {},
   "source": [
    "## Semantic Errors\n",
    "The third type of error is the semantic error. If there is a semantic error in your program, it will run successfully in the sense that the computer will not generate any error messages. However, your program will not do the right thing. It will do something else. Specifically, it will do what you told it to do.\n",
    "\n",
    "The problem is that the program you wrote is not the program you wanted to write. The meaning of the program (its semantics) is wrong. Identifying semantic errors can be tricky because it requires you to work backward by looking at the output of the program and trying to figure out what it is doing.\n",
    "\n",
    "Check your understanding\n",
    "\n",
    "debug-6-1: Which of the following is a semantic error?\n",
    "\n",
    "A. Attempting to divide by 0.\n",
    "\n",
    "B. Forgetting a semi-colon at the end of a statement where one is required.\n",
    "\n",
    "C. Forgetting to divide by 100 when printing a percentage amount."
   ]
  },
  {
   "cell_type": "markdown",
   "metadata": {},
   "source": [
    "# TypeError\n",
    "TypeErrors occur when you you try to combine two objects that are not compatible. For example you try to add together an integer and a string. Usually type errors can be isolated to lines that are using mathematical operators, and usually the line number given by the error message is an accurate indication of the line.\n",
    "\n",
    "Here’s an example of a type error created by a Polish learner. See if you can find and fix the error."
   ]
  },
  {
   "cell_type": "code",
   "execution_count": 8,
   "metadata": {},
   "outputs": [
    {
     "name": "stdout",
     "output_type": "stream",
     "text": [
      "the first number is:8\n",
      "The second number is:6\n",
      "0 6\n",
      "godzina teraz 14\n"
     ]
    }
   ],
   "source": [
    "a = input('the first number is:')\n",
    "x = input('The second number is:')\n",
    "x = int(x)\n",
    "a = int(a)\n",
    "h = a // 24\n",
    "s = x % 24\n",
    "print (h, s)\n",
    "a = a + s\n",
    "print ('godzina teraz', a)"
   ]
  },
  {
   "cell_type": "code",
   "execution_count": null,
   "metadata": {},
   "outputs": [],
   "source": [
    "str_time = input(\"What time is it now?\")\n",
    "str_wait_time = input(\"What is the number of hours to wait?\")\n",
    "time = int(str_time)\n",
    "wai_time = int(str_wait_time)\n",
    "\n",
    "time_when_alarm_go_off = time + str_wait_time\n",
    "print(time_when_alarm_go_off)"
   ]
  },
  {
   "cell_type": "markdown",
   "metadata": {},
   "source": [
    "# NameError\n",
    "Name errors almost always mean that you have used a variable before it has a value. Often NameErrors are simply caused by typos in your code. They can be hard to spot if you don’t have a good eye for catching spelling mistakes. Other times you may simply mis-remember the name of a variable or even a function you want to call. You have seen one example of a NameError at the beginning of this section. Here is another one. See if you can get this program to run successfully:"
   ]
  },
  {
   "cell_type": "code",
   "execution_count": 9,
   "metadata": {},
   "outputs": [
    {
     "name": "stdout",
     "output_type": "stream",
     "text": [
      "What time is it now?5\n",
      "What is the number of hours to wait?6\n"
     ]
    },
    {
     "ename": "NameError",
     "evalue": "name 'wait_time' is not defined",
     "output_type": "error",
     "traceback": [
      "\u001b[1;31m---------------------------------------------------------------------------\u001b[0m",
      "\u001b[1;31mNameError\u001b[0m                                 Traceback (most recent call last)",
      "\u001b[1;32m<ipython-input-9-dc9714c26825>\u001b[0m in \u001b[0;36m<module>\u001b[1;34m\u001b[0m\n\u001b[0;32m      4\u001b[0m \u001b[0mwai_time\u001b[0m \u001b[1;33m=\u001b[0m \u001b[0mint\u001b[0m\u001b[1;33m(\u001b[0m\u001b[0mstr_wait_time\u001b[0m\u001b[1;33m)\u001b[0m\u001b[1;33m\u001b[0m\u001b[1;33m\u001b[0m\u001b[0m\n\u001b[0;32m      5\u001b[0m \u001b[1;33m\u001b[0m\u001b[0m\n\u001b[1;32m----> 6\u001b[1;33m \u001b[0mtime_when_alarm_go_off\u001b[0m \u001b[1;33m=\u001b[0m \u001b[0mtime\u001b[0m \u001b[1;33m+\u001b[0m \u001b[0mwait_time\u001b[0m\u001b[1;33m\u001b[0m\u001b[1;33m\u001b[0m\u001b[0m\n\u001b[0m\u001b[0;32m      7\u001b[0m \u001b[0mprint\u001b[0m\u001b[1;33m(\u001b[0m\u001b[0mtime_when_alarm_go_off\u001b[0m\u001b[1;33m)\u001b[0m\u001b[1;33m\u001b[0m\u001b[1;33m\u001b[0m\u001b[0m\n",
      "\u001b[1;31mNameError\u001b[0m: name 'wait_time' is not defined"
     ]
    }
   ],
   "source": [
    "str_time = input(\"What time is it now?\")\n",
    "str_wait_time = input(\"What is the number of hours to wait?\")\n",
    "time = int(str_time)\n",
    "wai_time = int(str_wait_time)\n",
    "\n",
    "time_when_alarm_go_off = time + wait_time\n",
    "print(time_when_alarm_go_off)"
   ]
  },
  {
   "cell_type": "code",
   "execution_count": null,
   "metadata": {},
   "outputs": [],
   "source": [
    "present_time = input(\"Enter the present timein hours:\")\n",
    "set_alarm = input(\"Set the hours for alarm:\")\n",
    "#int(present_time, set_alarm, alarm_time)\n",
    "alarm_time = int(present_time) + int(set_alarm)\n",
    "print(alarm_time)"
   ]
  },
  {
   "cell_type": "markdown",
   "metadata": {},
   "source": [
    "# ValueError\n",
    "Value errors occur when you pass a parameter to a function and the function is expecting a certain limitations on the values, and the value passed is not compatible. We can illustrate that with this particular program in two different ways."
   ]
  },
  {
   "cell_type": "code",
   "execution_count": 12,
   "metadata": {},
   "outputs": [
    {
     "name": "stdout",
     "output_type": "stream",
     "text": [
      "What is the current time (in hours 0-23)?kkj\n"
     ]
    },
    {
     "ename": "ValueError",
     "evalue": "invalid literal for int() with base 10: 'kkj'",
     "output_type": "error",
     "traceback": [
      "\u001b[1;31m---------------------------------------------------------------------------\u001b[0m",
      "\u001b[1;31mValueError\u001b[0m                                Traceback (most recent call last)",
      "\u001b[1;32m<ipython-input-12-a2f4764d5ddf>\u001b[0m in \u001b[0;36m<module>\u001b[1;34m\u001b[0m\n\u001b[0;32m      1\u001b[0m \u001b[0mcurrent_time_str\u001b[0m \u001b[1;33m=\u001b[0m \u001b[0minput\u001b[0m\u001b[1;33m(\u001b[0m\u001b[1;34m\"What is the current time (in hours 0-23)?\"\u001b[0m\u001b[1;33m)\u001b[0m\u001b[1;33m\u001b[0m\u001b[1;33m\u001b[0m\u001b[0m\n\u001b[1;32m----> 2\u001b[1;33m \u001b[0mcurrent_time_int\u001b[0m \u001b[1;33m=\u001b[0m \u001b[0mint\u001b[0m\u001b[1;33m(\u001b[0m\u001b[0mcurrent_time_str\u001b[0m\u001b[1;33m)\u001b[0m\u001b[1;33m\u001b[0m\u001b[1;33m\u001b[0m\u001b[0m\n\u001b[0m\u001b[0;32m      3\u001b[0m \u001b[1;33m\u001b[0m\u001b[0m\n\u001b[0;32m      4\u001b[0m \u001b[0mwait_time_str\u001b[0m \u001b[1;33m=\u001b[0m \u001b[0minput\u001b[0m\u001b[1;33m(\u001b[0m\u001b[1;34m\"How many hours do you want to wait\"\u001b[0m\u001b[1;33m)\u001b[0m\u001b[1;33m\u001b[0m\u001b[1;33m\u001b[0m\u001b[0m\n\u001b[0;32m      5\u001b[0m \u001b[0mwait_time_int\u001b[0m \u001b[1;33m=\u001b[0m \u001b[0mint\u001b[0m\u001b[1;33m(\u001b[0m\u001b[0mwait_time_str\u001b[0m\u001b[1;33m)\u001b[0m\u001b[1;33m\u001b[0m\u001b[1;33m\u001b[0m\u001b[0m\n",
      "\u001b[1;31mValueError\u001b[0m: invalid literal for int() with base 10: 'kkj'"
     ]
    }
   ],
   "source": [
    "current_time_str = input(\"What is the current time (in hours 0-23)?\")\n",
    "current_time_int = int(current_time_str)\n",
    "\n",
    "wait_time_str = input(\"How many hours do you want to wait\")\n",
    "wait_time_int = int(wait_time_str)\n",
    "\n",
    "final_time_int = current_time_int + wait_time_int\n",
    "print(final_time_int)"
   ]
  },
  {
   "cell_type": "markdown",
   "metadata": {},
   "source": [
    "# What is an exception?\n",
    "An exception is a signal that a condition has occurred that can’t be easily handled using the normal flow-of-control of a Python program. Exceptions are often defined as being “errors” but this is not always the case. All errors in Python are dealt with using exceptions, but not all exceptions are errors.\n",
    "\n",
    "# Exception Handling Flow-of-control\n",
    "To explain what an exception does, let’s review the normal “flow of control” in a Python program. In normal operation Python executes statements sequentially, one after the other. For three constructs, if-statements, loops and function invocations, this sequential execution is interrupted.\n",
    "\n",
    "For if-statements, only one of several statement blocks is executed and then flow-of-control jumps to the first statement after the if-statement.\n",
    "\n",
    "For loops, when the end of the loop is reached, flow-of-control jumps back to the start of the loop and a test is used to determine if the loop needs to execute again. If the loop is finished, flow-of-control jumps to the first statement after the loop.\n",
    "\n",
    "For function invocations, flow-of-control jumps to the first statement in the called function, the function is executed, and the flow-of-control jumps back to the next statement after the function call.\n",
    "\n",
    "Do you see the pattern? If the flow-of-control is not purely sequential, it always executes the first statement immediately following the altered flow-of-control. That is why we can say that Python flow-of-control is sequential. But there are cases where this sequential flow-of-control does not work well.\n",
    "\n",
    "Exceptions provide us with way way to have a non-sequential point where we can handle something out of the ordinary (exceptional).\n",
    "\n",
    "# Raising and Catching Errors\n",
    "The try/except control structure provides a way to process a run-time error and continue on with program execution. Until now, any run-time error, such asking for the 8th item in a list with only 3 items, or dividing by 0, has caused the program execution to stop. In the browser ActiveCode windows, you get an error message in a box below. When you are executing python programs from the command-line, you also get an error message saying something about what went wrong and what line it occurred on. After the run-time error is encountered, the python interpreter does not try to execute the rest of the code. You have to make some change in your code and rerun the whole program.\n",
    "\n",
    "With try/except, you tell the python interpreter:\n",
    "\n",
    "Try to execute a block of code, the “try” clause.\n",
    "If the whole block of code executes without any run-time errors, just carry on with the rest of the program after the try/except statement.\n",
    "\n",
    "If a run-time error does occur during execution of the block of code:\n",
    "skip the rest of that block of code (but don’t exit the whole program)\n",
    "\n",
    "execute a block of code in the “except” clause\n",
    "\n",
    "then carry on with the rest of the program after the try/except statement\n",
    "\n",
    "try:\n",
    "\n",
    "   /try clause code block/\n",
    "   \n",
    "except /ErrorType/:\n",
    "\n",
    "   /exception handler code block/\n",
    "   \n",
    "The syntax is fairly straightforward. The only tricky part is that after the word except, there can optionally be a specification of the kinds of errors that will be handled. The catchall is the class Exception. If you write except Exception: all runtime errors will be handled. If you specify a more restricted class of errors, only those errors will be handled; any other kind of error will still cause the program to stop running and an error message to be printed.\n",
    "\n",
    "The code below causes an error of type IndexError, by trying to access the third element of a two-element list."
   ]
  },
  {
   "cell_type": "code",
   "execution_count": 16,
   "metadata": {},
   "outputs": [
    {
     "ename": "IndexError",
     "evalue": "list index out of range",
     "output_type": "error",
     "traceback": [
      "\u001b[1;31m---------------------------------------------------------------------------\u001b[0m",
      "\u001b[1;31mIndexError\u001b[0m                                Traceback (most recent call last)",
      "\u001b[1;32m<ipython-input-16-5435eb2212ad>\u001b[0m in \u001b[0;36m<module>\u001b[1;34m\u001b[0m\n\u001b[0;32m      1\u001b[0m \u001b[0mitems\u001b[0m \u001b[1;33m=\u001b[0m \u001b[1;33m[\u001b[0m\u001b[1;34m'a'\u001b[0m\u001b[1;33m,\u001b[0m \u001b[1;34m'b'\u001b[0m\u001b[1;33m]\u001b[0m\u001b[1;33m\u001b[0m\u001b[1;33m\u001b[0m\u001b[0m\n\u001b[0;32m      2\u001b[0m \u001b[1;33m\u001b[0m\u001b[0m\n\u001b[1;32m----> 3\u001b[1;33m \u001b[0mthird\u001b[0m \u001b[1;33m=\u001b[0m \u001b[0mitems\u001b[0m\u001b[1;33m[\u001b[0m\u001b[1;36m2\u001b[0m\u001b[1;33m]\u001b[0m\u001b[1;33m\u001b[0m\u001b[1;33m\u001b[0m\u001b[0m\n\u001b[0m",
      "\u001b[1;31mIndexError\u001b[0m: list index out of range"
     ]
    }
   ],
   "source": [
    "items = ['a', 'b']\n",
    "\n",
    "third = items[2]"
   ]
  },
  {
   "cell_type": "code",
   "execution_count": 15,
   "metadata": {},
   "outputs": [
    {
     "name": "stdout",
     "output_type": "stream",
     "text": [
      "b\n"
     ]
    }
   ],
   "source": [
    "items = ['a', 'b']\n",
    "try:\n",
    "    third = items[2]\n",
    "except:\n",
    "    third = items[1]\n",
    "print(third)"
   ]
  },
  {
   "cell_type": "code",
   "execution_count": 16,
   "metadata": {},
   "outputs": [
    {
     "ename": "ZeroDivisionError",
     "evalue": "division by zero",
     "output_type": "error",
     "traceback": [
      "\u001b[1;31m---------------------------------------------------------------------------\u001b[0m",
      "\u001b[1;31mZeroDivisionError\u001b[0m                         Traceback (most recent call last)",
      "\u001b[1;32m<ipython-input-16-3dd77fd89220>\u001b[0m in \u001b[0;36m<module>\u001b[1;34m\u001b[0m\n\u001b[0;32m      1\u001b[0m \u001b[1;31m#The code below causes an error of type ZeroDivisionError, or less specifically ArithmeticError.\u001b[0m\u001b[1;33m\u001b[0m\u001b[1;33m\u001b[0m\u001b[1;33m\u001b[0m\u001b[0m\n\u001b[0;32m      2\u001b[0m \u001b[0mx\u001b[0m \u001b[1;33m=\u001b[0m \u001b[1;36m5\u001b[0m\u001b[1;33m\u001b[0m\u001b[1;33m\u001b[0m\u001b[0m\n\u001b[1;32m----> 3\u001b[1;33m \u001b[0my\u001b[0m \u001b[1;33m=\u001b[0m \u001b[0mx\u001b[0m\u001b[1;33m/\u001b[0m\u001b[1;36m0\u001b[0m\u001b[1;33m\u001b[0m\u001b[1;33m\u001b[0m\u001b[0m\n\u001b[0m",
      "\u001b[1;31mZeroDivisionError\u001b[0m: division by zero"
     ]
    }
   ],
   "source": [
    "#The code below causes an error of type ZeroDivisionError, or less specifically ArithmeticError.\n",
    "x = 5\n",
    "y = x/0"
   ]
  },
  {
   "cell_type": "code",
   "execution_count": 20,
   "metadata": {},
   "outputs": [
    {
     "name": "stdout",
     "output_type": "stream",
     "text": [
      "got an err'o\"r\n",
      "list index out of range\n",
      "continuing\n"
     ]
    }
   ],
   "source": [
    "# Let’s see what happens if we wrap some of this problematic code in a try/except statement. Note that this won't print doesn’t print: when the error is encountered, the rest of the try block is skipped and the exception block is executed. When the except block is done, it continues on with the next line of code that’s outdented to the same level as the try: continuing is printed.\n",
    "try:\n",
    "    items = ['a', 'b']\n",
    "    third = items[2]\n",
    "    print(\"This won't print\")\n",
    "except Exception as e:\n",
    "    print(\"got an error\")\n",
    "    print(e)\n",
    "\n",
    "print(\"continuing\")"
   ]
  },
  {
   "cell_type": "code",
   "execution_count": 6,
   "metadata": {},
   "outputs": [
    {
     "name": "stdout",
     "output_type": "stream",
     "text": [
      "error 1\n",
      "continuing\n"
     ]
    }
   ],
   "source": [
    "try:\n",
    "    items = ['a', 'b']\n",
    "    third = items[2]\n",
    "    print(\"This won't print\")\n",
    "except Exception:\n",
    "    print(\"error 1\")\n",
    "\n",
    "print(\"continuing\")"
   ]
  },
  {
   "cell_type": "code",
   "execution_count": 18,
   "metadata": {},
   "outputs": [
    {
     "name": "stdout",
     "output_type": "stream",
     "text": [
      "error 1\n",
      "continuing\n",
      "error 2\n",
      "continuing again\n"
     ]
    }
   ],
   "source": [
    "# If we catch only IndexEror, and we actually have a divide by zero error, the program does stop executing.\n",
    "try:\n",
    "    items = ['a', 'b']\n",
    "    third = items[2]\n",
    "    print(\"This won't print\")\n",
    "except IndexError:\n",
    "    print(\"error 1\")\n",
    "\n",
    "print(\"continuing\")\n",
    "\n",
    "try:\n",
    "    x = 5\n",
    "    y = x/0\n",
    "    print(\"This won't print, either\")\n",
    "except ZeroDivisionError:\n",
    "    print(\"error 2\")\n",
    "\n",
    "\n",
    "print(\"continuing again\")"
   ]
  },
  {
   "cell_type": "markdown",
   "metadata": {},
   "source": [
    "There’s one other useful feature. The exception code can access a variable that contains information about exactly what the error was. Thus, for example, in the except clause you could print out the information that would normally be printed as an error message but continue on with execution of the rest of the program. To do that, you specify a variable name after the exception class that’s being handled. The exception clause code can refer to that variable name."
   ]
  },
  {
   "cell_type": "code",
   "execution_count": 19,
   "metadata": {},
   "outputs": [
    {
     "name": "stdout",
     "output_type": "stream",
     "text": [
      "got an error\n",
      "list index out of range\n",
      "continuing\n"
     ]
    }
   ],
   "source": [
    "try:\n",
    "    items = ['a', 'b']\n",
    "    third = items[2]\n",
    "    print(\"This won't print\")\n",
    "except Exception as e:\n",
    "    print(\"got an error\")\n",
    "    print(e)\n",
    "\n",
    "print(\"continuing\")"
   ]
  },
  {
   "cell_type": "code",
   "execution_count": 20,
   "metadata": {},
   "outputs": [
    {
     "name": "stdout",
     "output_type": "stream",
     "text": [
      "0.3333333333333333\n",
      "0.5\n",
      "1.0\n",
      "Got an error float division by zero\n"
     ]
    }
   ],
   "source": [
    "# How many lines will print out when the following code is executed?\n",
    "try:\n",
    "    for i in range(5):\n",
    "        print(1.0 / (3-i))\n",
    "except Exception as error_inst:\n",
    "    print(\"Got an error\", error_inst)"
   ]
  },
  {
   "cell_type": "markdown",
   "metadata": {},
   "source": [
    "### Below, we have provided a list of tuples that consist of student names, final exam scores, and whether or not they will pass the class. For some students, the tuple does not have a third element because it is unknown whether or not they will pass. Currently, the for loop does not work. Add a try/except clause so the code runs without an error - if there is no third element in the tuple, no changes should be made to the dictionary."
   ]
  },
  {
   "cell_type": "code",
   "execution_count": 10,
   "metadata": {},
   "outputs": [
    {
     "name": "stdout",
     "output_type": "stream",
     "text": [
      "2\n"
     ]
    }
   ],
   "source": [
    "# students = [('Timmy', 95, 'Will pass'), ('Martha', 70), ('Betty', 82, 'Will pass'), ('Stewart', 50, 'Will not pass'), ('Ashley', 68), ('Natalie', 99, 'Will pass'), ('Archie', 71), ('Carl', 45, 'Will not pass')]\n",
    "passing = {'Will pass': 0, 'Will not pass': 0}\n",
    "for tup in students:\n",
    "    try:\n",
    "        if tup[2] == 'Will pass':\n",
    "            passing['Will pass'] += 1\n",
    "        elif tup[2] == 'Will not pass':\n",
    "            passing['Will not pass'] += 1\n",
    "    except:\n",
    "        continue\n",
    "        #passing['Will pass'] += 1\n",
    "\n",
    "print(passing['Will not pass'])"
   ]
  },
  {
   "cell_type": "code",
   "execution_count": 9,
   "metadata": {},
   "outputs": [
    {
     "data": {
      "text/plain": [
       "{'Will pass': 3, 'Will not pass': 2}"
      ]
     },
     "execution_count": 9,
     "metadata": {},
     "output_type": "execute_result"
    }
   ],
   "source": [
    "passing"
   ]
  },
  {
   "cell_type": "markdown",
   "metadata": {},
   "source": [
    "### Below, we have provided code that does not run. Add four with every element in this list and save it in the given empty list. If an element is not able to undergo the addition operation, Add a try/except clause so the code runs without errors. "
   ]
  },
  {
   "cell_type": "code",
   "execution_count": 23,
   "metadata": {},
   "outputs": [
    {
     "name": "stdout",
     "output_type": "stream",
     "text": [
      "[9, 13, 8, 7, 6, 5, 10, 9, 11, 8, 7, 6, 10, 11, 12, 4, 7, 8, 4, 10, 9, 7, 9, 10, 11, 12, 7, 5, 9, 10, 11, 13, 7, 6, 9, 10, 13, 6, 7, 8, 9, 5]\n"
     ]
    }
   ],
   "source": [
    "nums = [5, 9, '4', 3, 2, 1, 6, 5, '7', 4, 3, 2, 6, 7, 8, '0', 3, 4, 0, 6, 5, '3', 5, 6, 7, 8, '3', '1', 5, 6, 7, 9, 3, 2, 5, 6, '9', 2, 3, 4, 5, 1]\n",
    "\n",
    "plus_four = []\n",
    "        \n",
    "print(plus_four)"
   ]
  },
  {
   "cell_type": "markdown",
   "metadata": {},
   "source": [
    "# When to use try/except\n",
    "The reason to use try/except is when you have a code block to execute that will sometimes run correctly and sometimes not, depending on conditions you can’t foresee at the time you’re writing the code.\n",
    "\n",
    "For example, when you are running code that fetches data from a website, you may run the code when you don’t have a network connection or when the external website is temporarily not responding. If your program can still do something useful in those situations, you would like to handle the exception and have the rest of your code execute.\n",
    "\n",
    "As another example, suppose you have fetched some nested data from a website into a dictionary d. When you try to extract specific elements, some may be missing: d may not include a particular key, for example. If you anticipate a particular key potentially not being present, you could write an if..else check to take care of it.\n",
    "\n",
    "if somekey in d:\n",
    "\n",
    "    # it's there; extract the data\n",
    "    \n",
    "    extract_data(d)\n",
    "    \n",
    "else:\n",
    "\n",
    "    skip_this_one(d)\n",
    "    \n",
    "However, if you’re extracting lots of different data, it can get tedious to check for all of them. You can wrap all the data extraction in a try/except.\n",
    "\n",
    "try:\n",
    "\n",
    "    extract_data(d)\n",
    "    \n",
    "except:\n",
    "\n",
    "    skip_this_one(d)\n",
    "    \n",
    "It’s considered poor practice to catch all exceptions this way. Instead, python provides a mechanism to specify just certain kinds of exceptions that you’ll catch (for example, just catching exceptions of type KeyError, which happens when a key is missing from a dictionary.\n",
    "\n",
    "try:\n",
    "    extract_data(d)\n",
    "    \n",
    "except KeyError:\n",
    "\n",
    "    skip_this_one(d)\n",
    "    \n",
    "    \n",
    "We won’t go into more details of exception handling in this introductory course. Check out the official python tutorial section on error handling if you’re interested."
   ]
  },
  {
   "cell_type": "markdown",
   "metadata": {},
   "source": [
    "# Standard Exceptions\n",
    "Most of the standard exceptions built into Python are listed below. They are organized into related groups based on the types of issues they deal with.\n",
    "\n",
    "Language Exceptions\n",
    "\n",
    "Description\n",
    "\n",
    "StandardError\n",
    "\n",
    "Base class for all built-in exceptions except StopIteration and SystemExit.\n",
    "\n",
    "ImportError\n",
    "\n",
    "Raised when an import statement fails.\n",
    "\n",
    "SyntaxError\n",
    "\n",
    "Raised when there is an error in Python syntax.\n",
    "\n",
    "IndentationError\n",
    "\n",
    "Raised when indentation is not specified properly.\n",
    "\n",
    "NameError\n",
    "\n",
    "Raised when an identifier is not found in the local or global namespace.\n",
    "\n",
    "UnboundLocalError\n",
    "\n",
    "Raised when trying to access a local variable in a function or method but no value has been assigned to it.\n",
    "\n",
    "TypeError\n",
    "\n",
    "Raised when an operation or function is attempted that is invalid for the specified data type.\n",
    "\n",
    "LookupError\n",
    "\n",
    "Base class for all lookup errors.\n",
    "\n",
    "IndexError\n",
    "\n",
    "Raised when an index is not found in a sequence.\n",
    "\n",
    "KeyError\n",
    "\n",
    "Raised when the specified key is not found in the dictionary.\n",
    "\n",
    "ValueError\n",
    "\n",
    "Raised when the built-in function for a data type has the valid type of arguments, but the arguments have invalid values specified.\n",
    "\n",
    "RuntimeError\n",
    "\n",
    "Raised when a generated error does not fall into any category.\n",
    "\n",
    "MemoryError\n",
    "\n",
    "Raised when a operation runs out of memory.\n",
    "\n",
    "RecursionError\n",
    "\n",
    "Raised when the maximum recursion depth has been exceeded.\n",
    "\n",
    "SystemError\n",
    "\n",
    "Raised when the interpreter finds an internal problem, but when this error is encountered the Python interpreter does not exit.\n",
    "\n",
    "Math Exceptions\n",
    "\n",
    "Description\n",
    "\n",
    "ArithmeticError\n",
    "\n",
    "Base class for all errors that occur for numeric calculation. You know a math error occurred, but you don’t know the specific error.\n",
    "\n",
    "OverflowError\n",
    "\n",
    "Raised when a calculation exceeds maximum limit for a numeric type.\n",
    "\n",
    "FloatingPointError\n",
    "\n",
    "Raised when a floating point calculation fails.\n",
    "\n",
    "ZeroDivisonError\n",
    "\n",
    "Raised when division or modulo by zero takes place for all numeric types.\n",
    "\n",
    "I/O Exceptions\n",
    "\n",
    "Description\n",
    "\n",
    "FileNotFoundError\n",
    "\n",
    "Raised when a file or directory is requested but doesn’t exist.\n",
    "\n",
    "IOError\n",
    "\n",
    "Raised when an input/ output operation fails, such as the print statement or the open() function when trying to open a file that does not exist. Also raised for operating system-related errors.\n",
    "\n",
    "PermissionError\n",
    "\n",
    "Raised when trying to run an operation without the adequate access rights.\n",
    "\n",
    "EOFError\n",
    "\n",
    "Raised when there is no input from either the raw_input() or input() function and the end of file is reached.\n",
    "\n",
    "KeyboardInterrupt\n",
    "\n",
    "Raised when the user interrupts program execution, usually by pressing Ctrl+c.\n",
    "\n",
    "Other Exceptions\n",
    "\n",
    "Description\n",
    "\n",
    "Exception\n",
    "\n",
    "Base class for all exceptions. This catches most exception messages.\n",
    "\n",
    "StopIteration\n",
    "\n",
    "Raised when the next() method of an iterator does not point to any object.\n",
    "\n",
    "AssertionError\n",
    "\n",
    "Raised in case of failure of the Assert statement.\n",
    "\n",
    "SystemExit\n",
    "\n",
    "Raised when Python interpreter is quit by using the sys.exit() function. If not handled in the code, it causes the interpreter to exit.\n",
    "\n",
    "OSError\n",
    "\n",
    "Raises for operating system related errors.\n",
    "\n",
    "EnvironmentError\n",
    "\n",
    "Base class for all exceptions that occur outside the Python environment.\n",
    "\n",
    "AttributeError\n",
    "\n",
    "Raised in case of failure of an attribute reference or assignment.\n",
    "\n",
    "NotImplementedError\n",
    "\n",
    "Raised when an abstract method that needs to be implemented in an inherited class is not actually implemented.\n",
    "\n",
    "All exceptions are objects. The classes that define the objects are organized in a hierarchy, which is shown below. This is important because the parent class of a set of related exceptions will catch all exception messages for itself and its child exceptions. For example, an ArithmeticError exception will catch itself and all FloatingPointError, OverflowError, and ZeroDivisionError exceptions."
   ]
  },
  {
   "cell_type": "code",
   "execution_count": 26,
   "metadata": {},
   "outputs": [
    {
     "name": "stdout",
     "output_type": "stream",
     "text": [
      "got an error\n",
      "continuing\n"
     ]
    }
   ],
   "source": [
    "items = ['a', 'b']\n",
    "#a = (10\\0)\n",
    "try:\n",
    "    a = 10/5\n",
    "    third = items[2]\n",
    "    print(\"This won't print\")\n",
    "except:\n",
    "    print(\"got an error\")\n",
    "\n",
    "print(\"continuing\")"
   ]
  },
  {
   "cell_type": "code",
   "execution_count": 29,
   "metadata": {},
   "outputs": [
    {
     "name": "stdout",
     "output_type": "stream",
     "text": [
      "2.0\n",
      "this is out of bound\n",
      "continuing\n"
     ]
    }
   ],
   "source": [
    "items = ['a', 'b']\n",
    "\n",
    "try:\n",
    "    a = 10/0\n",
    "    third = items[2]\n",
    "    print(\"This won't print\")\n",
    "except ZeroDivisionError:\n",
    "    a = 10/5\n",
    "    print(a)\n",
    "    print(\"this is out of bound\")\n",
    "except IndexError:\n",
    "    third = items[1]\n",
    "    print(third)\n",
    "    print(\"got an error\")\n",
    "\n",
    "print(\"continuing\")"
   ]
  },
  {
   "cell_type": "code",
   "execution_count": 23,
   "metadata": {},
   "outputs": [
    {
     "name": "stdout",
     "output_type": "stream",
     "text": [
      "got an error\n",
      "continuing\n"
     ]
    }
   ],
   "source": [
    "items = ['a', 'b']\n",
    "\n",
    "try:\n",
    "    a = 10/0\n",
    "    third = items[2]\n",
    "    print(\"This won't print\")\n",
    "except IndexError:\n",
    "    print(\"this is out of bound\")\n",
    "except ZeroDivisionError:\n",
    "    print(\"got an error\")\n",
    "\n",
    "print(\"continuing\")"
   ]
  },
  {
   "cell_type": "code",
   "execution_count": 32,
   "metadata": {},
   "outputs": [
    {
     "name": "stdout",
     "output_type": "stream",
     "text": [
      "got an error\n",
      "continuing\n"
     ]
    }
   ],
   "source": [
    "items = ['a', 'b']\n",
    "\n",
    "try:\n",
    "    myvar = a\n",
    "    a = 10/0\n",
    "    third = items[2]\n",
    "    print(\"This won't print\")\n",
    "\n",
    "except IndexError:\n",
    "    print(\"this is out of bound\")\n",
    "except ZeroDivisionError:\n",
    "    print(\"got an error\")\n",
    "except Exception as e:\n",
    "    print(\"something went wrong\", e)\n",
    "    \n",
    "    \n",
    "print(\"continuing\")"
   ]
  },
  {
   "cell_type": "code",
   "execution_count": 33,
   "metadata": {},
   "outputs": [
    {
     "data": {
      "text/plain": [
       "2.0"
      ]
     },
     "execution_count": 33,
     "metadata": {},
     "output_type": "execute_result"
    }
   ],
   "source": [
    "a"
   ]
  },
  {
   "cell_type": "code",
   "execution_count": null,
   "metadata": {},
   "outputs": [],
   "source": []
  }
 ],
 "metadata": {
  "kernelspec": {
   "display_name": "Python 3",
   "language": "python",
   "name": "python3"
  },
  "language_info": {
   "codemirror_mode": {
    "name": "ipython",
    "version": 3
   },
   "file_extension": ".py",
   "mimetype": "text/x-python",
   "name": "python",
   "nbconvert_exporter": "python",
   "pygments_lexer": "ipython3",
   "version": "3.7.4"
  }
 },
 "nbformat": 4,
 "nbformat_minor": 4
}
