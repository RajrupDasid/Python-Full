{
 "cells": [
  {
   "cell_type": "code",
   "execution_count": 14,
   "metadata": {},
   "outputs": [
    {
     "name": "stdout",
     "output_type": "stream",
     "text": [
      "cwen@iupui.edu 5\n",
      "zqian@umich.edu 4\n",
      "david.horwitz@uct.ac.za 4\n",
      "louis@media.berkeley.edu 3\n",
      "gsilver@umich.edu 3\n",
      "stephen.marquard@uct.ac.za 2\n",
      "rjlowe@iupui.edu 2\n",
      "wagnermr@iupui.edu 1\n",
      "antranig@caret.cam.ac.uk 1\n",
      "gopal.ramasammycook@gmail.com 1\n"
     ]
    }
   ],
   "source": [
    "import sqlite3\n",
    "\n",
    "conn = sqlite3.connect('emaildb.sqlite')\n",
    "cur = conn.cursor()\n",
    "\n",
    "cur.execute('DROP TABLE IF EXISTS Counts')\n",
    "\n",
    "cur.execute('CREATE TABLE Counts (email TEXT, count INTEGER)')\n",
    "\n",
    "fname = 'mbox-short.txt'\n",
    "fh = open(fname)\n",
    "for line in fh:\n",
    "    if not line.startswith('From: '): continue\n",
    "    pieces = line.split()\n",
    "    email = pieces[1]\n",
    "    cur.execute('SELECT count FROM Counts WHERE email = ? ', (email,))\n",
    "    row = cur.fetchone()\n",
    "    if row is None:\n",
    "        cur.execute('INSERT INTO Counts (email, count) VALUES (?, 1)', (email,))\n",
    "    else:\n",
    "        cur.execute('UPDATE Counts SET count = count + 1 WHERE email = ?',\n",
    "                    (email,))\n",
    "    conn.commit()\n",
    "\n",
    "# https://www.sqlite.org/lang_select.html\n",
    "sqlstr = 'SELECT email, count FROM Counts ORDER BY count DESC LIMIT 10'\n",
    "\n",
    "for row in cur.execute(sqlstr):\n",
    "    print(str(row[0]), row[1])\n",
    "\n",
    "cur.close()"
   ]
  },
  {
   "cell_type": "code",
   "execution_count": 3,
   "metadata": {},
   "outputs": [
    {
     "data": {
      "text/plain": [
       "{'stephen.marquard@uct.ac.za': 2,\n",
       " 'louis@media.berkeley.edu': 3,\n",
       " 'zqian@umich.edu': 4,\n",
       " 'rjlowe@iupui.edu': 2,\n",
       " 'cwen@iupui.edu': 5,\n",
       " 'gsilver@umich.edu': 3,\n",
       " 'wagnermr@iupui.edu': 1,\n",
       " 'antranig@caret.cam.ac.uk': 1,\n",
       " 'gopal.ramasammycook@gmail.com': 1,\n",
       " 'david.horwitz@uct.ac.za': 4,\n",
       " 'ray@media.berkeley.edu': 1}"
      ]
     },
     "execution_count": 3,
     "metadata": {},
     "output_type": "execute_result"
    }
   ],
   "source": [
    "fname = 'mbox-short.txt'\n",
    "fh = open(fname)\n",
    "dic = {}\n",
    "for line in fh:\n",
    "    if not line.startswith('From: '): continue\n",
    "    pieces = line.split()\n",
    "    email = pieces[1]\n",
    "    if email not in dic:\n",
    "        dic[email] = 1\n",
    "    else:\n",
    "        dic[email] += 1\n",
    "dic"
   ]
  },
  {
   "cell_type": "code",
   "execution_count": 3,
   "metadata": {},
   "outputs": [
    {
     "data": {
      "text/plain": [
       "{'stephen.marquard@uct.ac.za': 2,\n",
       " 'louis@media.berkeley.edu': 3,\n",
       " 'zqian@umich.edu': 4,\n",
       " 'rjlowe@iupui.edu': 2,\n",
       " 'cwen@iupui.edu': 5,\n",
       " 'gsilver@umich.edu': 3,\n",
       " 'wagnermr@iupui.edu': 1,\n",
       " 'antranig@caret.cam.ac.uk': 1,\n",
       " 'gopal.ramasammycook@gmail.com': 1,\n",
       " 'david.horwitz@uct.ac.za': 4,\n",
       " 'ray@media.berkeley.edu': 1}"
      ]
     },
     "execution_count": 3,
     "metadata": {},
     "output_type": "execute_result"
    }
   ],
   "source": [
    "dic"
   ]
  },
  {
   "cell_type": "code",
   "execution_count": 12,
   "metadata": {},
   "outputs": [
    {
     "name": "stdout",
     "output_type": "stream",
     "text": [
      "stephen.marquard@uct.ac.za\n",
      "louis@media.berkeley.edu\n",
      "zqian@umich.edu\n",
      "rjlowe@iupui.edu\n",
      "zqian@umich.edu\n",
      "rjlowe@iupui.edu\n",
      "cwen@iupui.edu\n",
      "cwen@iupui.edu\n",
      "gsilver@umich.edu\n",
      "gsilver@umich.edu\n",
      "zqian@umich.edu\n",
      "gsilver@umich.edu\n",
      "wagnermr@iupui.edu\n",
      "zqian@umich.edu\n",
      "antranig@caret.cam.ac.uk\n",
      "gopal.ramasammycook@gmail.com\n",
      "david.horwitz@uct.ac.za\n",
      "david.horwitz@uct.ac.za\n",
      "david.horwitz@uct.ac.za\n",
      "david.horwitz@uct.ac.za\n",
      "stephen.marquard@uct.ac.za\n",
      "louis@media.berkeley.edu\n",
      "louis@media.berkeley.edu\n",
      "ray@media.berkeley.edu\n",
      "cwen@iupui.edu\n",
      "cwen@iupui.edu\n",
      "cwen@iupui.edu\n"
     ]
    }
   ],
   "source": [
    "fname = 'mbox-short.txt'\n",
    "fh = open(fname)\n",
    "dic = {}\n",
    "for line in fh:\n",
    "    if not line.startswith('From: '): continue\n",
    "    pieces = line.split()\n",
    "    email = pieces[1]\n",
    "    print(email)"
   ]
  },
  {
   "cell_type": "code",
   "execution_count": null,
   "metadata": {},
   "outputs": [],
   "source": []
  }
 ],
 "metadata": {
  "kernelspec": {
   "display_name": "Python 3",
   "language": "python",
   "name": "python3"
  },
  "language_info": {
   "codemirror_mode": {
    "name": "ipython",
    "version": 3
   },
   "file_extension": ".py",
   "mimetype": "text/x-python",
   "name": "python",
   "nbconvert_exporter": "python",
   "pygments_lexer": "ipython3",
   "version": "3.7.4"
  }
 },
 "nbformat": 4,
 "nbformat_minor": 4
}
